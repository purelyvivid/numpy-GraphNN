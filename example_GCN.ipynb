{
 "cells": [
  {
   "cell_type": "code",
   "execution_count": 1,
   "metadata": {},
   "outputs": [],
   "source": [
    "import numpy as np\n",
    "from net import *\n",
    "from utils import *"
   ]
  },
  {
   "cell_type": "code",
   "execution_count": 2,
   "metadata": {},
   "outputs": [],
   "source": [
    "# gen data\n",
    "n_node = 10\n",
    "X = np.random.random((n_node,5))\n",
    "A = (np.random.random((n_node,n_node))>0.6).astype(int)\n",
    "for i in range(n_node):\n",
    "    A[i,i] = 0"
   ]
  },
  {
   "cell_type": "code",
   "execution_count": 3,
   "metadata": {},
   "outputs": [
    {
     "name": "stdout",
     "output_type": "stream",
     "text": [
      "---<Model Summary>---\n",
      "layer 1 :   dim = (5, 6) , act = identity\n",
      "layer 2 :   dim = (6, 6) , act = identity\n",
      "layer 3 :   dim = (6, 1) , act = identity\n",
      "output_fn:  identity\n",
      "---------------------\n",
      "score(before):  0.00584022547299678\n",
      "\n",
      "------<Train>------\n",
      "loss_fn:  mse , optimizer:  sgd , start_lr:  0.01\n",
      "\n",
      "loss:  45.480811923788536\n",
      "loss:  206.13073115728366\n",
      "loss:  144.19101336562858\n",
      "loss:  4.197450123666633\n",
      "loss:  1.5472230577596071\n",
      "loss:  0.5778117397427261\n",
      "loss:  0.3191673884695249\n",
      "loss:  0.26562516150046944\n",
      "loss:  0.2557338978251099\n",
      "loss:  0.25358206812313605\n",
      "---------------------\n",
      "score(after):  0.03397048084296877\n"
     ]
    }
   ],
   "source": [
    "# try model: regerssion\n",
    "y = np.random.random((n_node,1))\n",
    "cls = Net([5,6,6,1], layer_type='gcn', act='identity')\n",
    "print('score(before): ', cls.score(X,y,loss_='mse', A=A) )\n",
    "cls.fit(X,y,A=A)\n",
    "print('score(after): ', cls.score(X,y,A=A) )"
   ]
  },
  {
   "cell_type": "code",
   "execution_count": 4,
   "metadata": {},
   "outputs": [
    {
     "name": "stdout",
     "output_type": "stream",
     "text": [
      "---<Model Summary>---\n",
      "layer 1 :   dim = (5, 6) , act = identity\n",
      "layer 2 :   dim = (6, 3) , act = identity\n",
      "output_fn:  identity\n",
      "---------------------\n",
      "score(before):  0.4\n",
      "\n",
      "------<Train>------\n",
      "loss_fn:  bce_logits , optimizer:  sgd , start_lr:  0.01\n",
      "\n",
      "loss:  1.3876533748344755\n",
      "loss:  1.2857266503637854\n",
      "loss:  1.2475529924988729\n",
      "loss:  1.2165232360847975\n",
      "loss:  1.1878951629254457\n",
      "loss:  1.161451815033271\n",
      "loss:  1.1372630550476897\n",
      "loss:  1.1153944047957502\n",
      "loss:  1.0958773566066147\n",
      "loss:  1.0786992256587509\n",
      "---------------------\n",
      "score(after):  0.5\n"
     ]
    }
   ],
   "source": [
    "# try model: classification\n",
    "n_class = 3\n",
    "y_ = np.random.randint(n_class, size=n_node)\n",
    "y = to_categorical(y_, n_class)\n",
    "cls = Net([5,6,n_class], layer_type='gcn', act='identity')\n",
    "print('score(before): ', cls.score(X,y,loss_='bce_logits', A=A) ) \n",
    "cls.fit(X,y, loss_='bce_logits', lr=0.01, A=A)\n",
    "print('score(after): ', cls.score(X,y, A=A) )"
   ]
  },
  {
   "cell_type": "code",
   "execution_count": null,
   "metadata": {},
   "outputs": [],
   "source": []
  },
  {
   "cell_type": "code",
   "execution_count": null,
   "metadata": {},
   "outputs": [],
   "source": []
  }
 ],
 "metadata": {
  "kernelspec": {
   "display_name": "Python 3",
   "language": "python",
   "name": "python3"
  },
  "language_info": {
   "codemirror_mode": {
    "name": "ipython",
    "version": 3
   },
   "file_extension": ".py",
   "mimetype": "text/x-python",
   "name": "python",
   "nbconvert_exporter": "python",
   "pygments_lexer": "ipython3",
   "version": "3.6.6"
  }
 },
 "nbformat": 4,
 "nbformat_minor": 2
}
