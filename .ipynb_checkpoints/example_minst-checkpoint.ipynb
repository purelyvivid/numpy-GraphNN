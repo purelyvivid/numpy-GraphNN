{
 "cells": [
  {
   "cell_type": "markdown",
   "metadata": {},
   "source": [
    "Use numpy to write simple neural networks and use a gradient descent algorithm to train it for classifying digits in the MNIST dataset.\n",
    "\n",
    "- Using cross-entropy loss\n",
    "- Using mean-square-error loss"
   ]
  },
  {
   "cell_type": "code",
   "execution_count": 2,
   "metadata": {},
   "outputs": [],
   "source": [
    "import numpy as np"
   ]
  },
  {
   "cell_type": "code",
   "execution_count": 3,
   "metadata": {},
   "outputs": [],
   "source": [
    "import warnings\n",
    "warnings.filterwarnings(\"ignore\")"
   ]
  },
  {
   "cell_type": "markdown",
   "metadata": {},
   "source": [
    "# Downlod MNIST"
   ]
  },
  {
   "cell_type": "code",
   "execution_count": 4,
   "metadata": {},
   "outputs": [
    {
     "name": "stdout",
     "output_type": "stream",
     "text": [
      "Downloading data from https://github.com/mnielsen/neural-networks-and-deep-learning/raw/master/data/mnist.pkl.gz\n",
      "downloading: 100.0%"
     ]
    }
   ],
   "source": [
    "import os\n",
    "import urllib\n",
    "from urllib.request import urlretrieve\n",
    "dataset = 'mnist.pkl.gz'\n",
    "def reporthook(a,b,c):\n",
    "    print(\"\\rdownloading: %5.1f%%\"%(a*b*100.0/c), end=\"\")\n",
    "    \n",
    "if not os.path.isfile(dataset):\n",
    "        origin = \"https://github.com/mnielsen/neural-networks-and-deep-learning/raw/master/data/mnist.pkl.gz\"\n",
    "        print('Downloading data from %s' % origin)\n",
    "        urlretrieve(origin, dataset, reporthook=reporthook)"
   ]
  },
  {
   "cell_type": "code",
   "execution_count": 5,
   "metadata": {},
   "outputs": [],
   "source": [
    "import gzip\n",
    "import pickle\n",
    "with gzip.open(dataset, 'rb') as f:\n",
    "    train_set, validation_set, test_set = pickle.load(f, encoding='latin1')"
   ]
  },
  {
   "cell_type": "code",
   "execution_count": 6,
   "metadata": {},
   "outputs": [
    {
     "data": {
      "text/plain": [
       "((50000, 784), (50000,), 0.13044983, 0.3072898)"
      ]
     },
     "execution_count": 6,
     "metadata": {},
     "output_type": "execute_result"
    }
   ],
   "source": [
    "train_X, train_y = train_set\n",
    "test_X, test_y = test_set\n",
    "train_X.shape, train_y.shape, train_X.mean(), train_X.std()"
   ]
  },
  {
   "cell_type": "code",
   "execution_count": 7,
   "metadata": {},
   "outputs": [],
   "source": [
    "from IPython.display import display\n",
    "from PIL import Image\n",
    "def showX(X):\n",
    "    int_X = (X*255).clip(0,255).astype('uint8')\n",
    "    # N*784 -> N*28*28 -> 28*N*28 -> 28 * 28N\n",
    "    int_X_reshape = int_X.reshape(-1,28,28).swapaxes(0,1).reshape(28,-1)\n",
    "    display(Image.fromarray(int_X_reshape))"
   ]
  },
  {
   "cell_type": "code",
   "execution_count": 8,
   "metadata": {},
   "outputs": [
    {
     "data": {
      "image/png": "[encoded data removed]",
      "text/plain": [
       "<PIL.Image.Image image mode=L size=280x28 at 0x7F9C0C71D940>"
      ]
     },
     "metadata": {},
     "output_type": "display_data"
    }
   ],
   "source": [
    "showX(train_X[:10])"
   ]
  },
  {
   "cell_type": "markdown",
   "metadata": {},
   "source": [
    "# Model"
   ]
  },
  {
   "cell_type": "code",
   "execution_count": 9,
   "metadata": {},
   "outputs": [],
   "source": [
    "import numpy as np\n",
    "from net import *\n",
    "from utils import *"
   ]
  },
  {
   "cell_type": "code",
   "execution_count": 10,
   "metadata": {},
   "outputs": [
    {
     "data": {
      "text/plain": [
       "(50000, 10)"
      ]
     },
     "execution_count": 10,
     "metadata": {},
     "output_type": "execute_result"
    }
   ],
   "source": [
    "train_y_categ = to_categorical(train_y, 10)\n",
    "test_y_categ = to_categorical(test_y, 10)\n",
    "train_y_categ.shape"
   ]
  },
  {
   "cell_type": "markdown",
   "metadata": {},
   "source": [
    "## Using cross-entropy loss"
   ]
  },
  {
   "cell_type": "code",
   "execution_count": 11,
   "metadata": {},
   "outputs": [
    {
     "name": "stdout",
     "output_type": "stream",
     "text": [
      "---<Model Summary>---\n",
      "layer 1 :   dim = (784, 200) , act = relu\n",
      "layer 2 :   dim = (200, 10) , act = identity\n",
      "output_fn:  identity\n",
      "---------------------\n",
      "score:  0.10714\n",
      "\n",
      "------<Train>------\n",
      "loss_fn:  bce_logits , optimizer:  sgd , start_lr:  3e-06\n",
      "\n",
      "loss:  2.3028805023885597\n",
      "loss:  2.2898050301915203\n",
      "loss:  2.271439904283071\n",
      "loss:  2.240939862570546\n",
      "loss:  2.189463821739281\n",
      "loss:  2.106983795684061\n",
      "loss:  1.9850183476099346\n",
      "loss:  1.820871087398511\n",
      "loss:  1.625805071243275\n",
      "loss:  1.427121123763144\n",
      "loss:  1.2837662900418685\n",
      "---------------------\n",
      "score:  0.7579\n"
     ]
    }
   ],
   "source": [
    "cls = Net(dims=[784,200,10], act='relu', init_method='random_normal')\n",
    "print('score: ', score_accuracy(cls, train_X, train_y) )\n",
    "cls.fit(train_X, train_y_categ,\n",
    "        loss_='bce_logits', \n",
    "        lr=3e-6, \n",
    "        epochs=50, \n",
    "        print_freq=5)\n",
    "print('score: ', score_accuracy(cls, test_X, test_y) )"
   ]
  },
  {
   "cell_type": "markdown",
   "metadata": {},
   "source": [
    "## Using mean-square-error loss"
   ]
  },
  {
   "cell_type": "code",
   "execution_count": 12,
   "metadata": {},
   "outputs": [
    {
     "name": "stdout",
     "output_type": "stream",
     "text": [
      "---<Model Summary>---\n",
      "layer 1 :   dim = (784, 200) , act = relu\n",
      "layer 2 :   dim = (200, 10) , act = identity\n",
      "output_fn:  identity\n",
      "---------------------\n",
      "score:  0.05306\n",
      "\n",
      "------<Train>------\n",
      "loss_fn:  mse , optimizer:  sgd , start_lr:  0.1\n",
      "\n",
      "loss:  0.9989640280777127\n",
      "loss:  0.9673755691651987\n",
      "loss:  0.9432657216323097\n",
      "loss:  0.9246284577801067\n",
      "loss:  0.9102524820248177\n",
      "loss:  0.8991946331012121\n",
      "loss:  0.890615725179407\n",
      "loss:  0.8837708114311719\n",
      "loss:  0.878044954052941\n",
      "loss:  0.8729750223655033\n",
      "loss:  0.8682342024924659\n",
      "loss:  0.8636102891308094\n",
      "loss:  0.8589703349476357\n",
      "loss:  0.8542311988000894\n",
      "loss:  0.8493436783373748\n",
      "loss:  0.844277723275874\n",
      "loss:  0.8390156592206665\n",
      "loss:  0.8335455889627312\n",
      "loss:  0.8278613184940735\n",
      "loss:  0.8219605815129395\n",
      "loss:  0.8170855894901907\n",
      "---------------------\n",
      "score:  0.6919\n"
     ]
    }
   ],
   "source": [
    "cls = Net(dims=[784,200,10], act='relu', init_method='random_normal')\n",
    "print('score: ', score_accuracy(cls, train_X, train_y) )\n",
    "cls.fit(train_X, train_y_categ,\n",
    "        loss_='mse', \n",
    "        lr=1e-1, \n",
    "        epochs=100, \n",
    "        print_freq=5)\n",
    "print('score: ', score_accuracy(cls, test_X, test_y) )"
   ]
  },
  {
   "cell_type": "code",
   "execution_count": null,
   "metadata": {},
   "outputs": [],
   "source": []
  },
  {
   "cell_type": "code",
   "execution_count": null,
   "metadata": {},
   "outputs": [],
   "source": []
  }
 ],
 "metadata": {
  "kernelspec": {
   "display_name": "Python 3",
   "language": "python",
   "name": "python3"
  },
  "language_info": {
   "codemirror_mode": {
    "name": "ipython",
    "version": 3
   },
   "file_extension": ".py",
   "mimetype": "text/x-python",
   "name": "python",
   "nbconvert_exporter": "python",
   "pygments_lexer": "ipython3",
   "version": "3.6.6"
  }
 },
 "nbformat": 4,
 "nbformat_minor": 2
}
