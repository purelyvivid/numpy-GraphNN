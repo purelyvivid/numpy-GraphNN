{
 "cells": [
  {
   "cell_type": "code",
   "execution_count": 1,
   "metadata": {},
   "outputs": [],
   "source": [
    "import numpy as np\n",
    "from net import *\n",
    "from utils import *"
   ]
  },
  {
   "cell_type": "code",
   "execution_count": 2,
   "metadata": {},
   "outputs": [
    {
     "name": "stdout",
     "output_type": "stream",
     "text": [
      "---<Model Summary>---\n",
      "layer 1 :   dim = (5, 6) , act = relu\n",
      "layer 2 :   dim = (6, 6) , act = relu\n",
      "layer 3 :   dim = (6, 1) , act = identity\n",
      "output_fn:  identity\n",
      "---------------------\n",
      "score(before):  0.006662517551868037\n",
      "\n",
      "------<Train>------\n",
      "loss_fn:  mse , optimizer:  sgd , start_lr:  0.01\n",
      "\n",
      "loss:  3.668713963860497\n",
      "loss:  2.9692834051474475\n",
      "loss:  2.4069472751706518\n",
      "loss:  1.968306176390894\n",
      "loss:  1.641931585614985\n",
      "loss:  1.3983255180272895\n",
      "loss:  1.2052292072349868\n",
      "loss:  1.052181319346899\n",
      "loss:  0.9269586063434538\n",
      "loss:  0.8226166025377268\n",
      "---------------------\n",
      "score(after):  0.0030469344817943924\n"
     ]
    }
   ],
   "source": [
    "# try model: regerssion\n",
    "batch_size = 16\n",
    "cls = Net([5,6,6,1])\n",
    "X = np.random.random((batch_size,5))\n",
    "y = np.random.random((batch_size,1))\n",
    "print('score(before): ', cls.score(X,y,loss_='mse') )\n",
    "cls.fit(X,y)\n",
    "print('score(after): ', cls.score(X,y) )"
   ]
  },
  {
   "cell_type": "code",
   "execution_count": 3,
   "metadata": {},
   "outputs": [
    {
     "name": "stdout",
     "output_type": "stream",
     "text": [
      "---<Model Summary>---\n",
      "layer 1 :   dim = (5, 6) , act = relu\n",
      "layer 2 :   dim = (6, 3) , act = identity\n",
      "output_fn:  identity\n",
      "---------------------\n",
      "score(before):  0.25\n",
      "\n",
      "------<Train>------\n",
      "loss_fn:  bce_logits , optimizer:  sgd , start_lr:  0.01\n",
      "\n",
      "loss:  4.220133052784958\n",
      "loss:  1.3756103154558919\n",
      "loss:  1.2499380150371837\n",
      "loss:  1.2348098197345467\n",
      "loss:  1.222734040498422\n",
      "loss:  1.211568526816658\n",
      "loss:  1.2010694105331228\n",
      "loss:  1.1911684261683726\n",
      "loss:  1.181818164118129\n",
      "loss:  1.1729766204771044\n",
      "---------------------\n",
      "score(after):  0.375\n"
     ]
    }
   ],
   "source": [
    "# try model: classification\n",
    "batch_size = 16\n",
    "n_class = 3\n",
    "cls = Net([5,6,n_class])\n",
    "X = np.random.random((batch_size,5))\n",
    "y_ = np.random.randint(n_class, size=batch_size)\n",
    "y = to_categorical(y_, n_class)\n",
    "print('score(before): ', cls.score(X,y,loss_='bce_logits') ) \n",
    "cls.fit(X,y, loss_='bce_logits', lr=0.01)\n",
    "print('score(after): ', cls.score(X,y) )"
   ]
  },
  {
   "cell_type": "code",
   "execution_count": null,
   "metadata": {},
   "outputs": [],
   "source": []
  }
 ],
 "metadata": {
  "kernelspec": {
   "display_name": "Python 3",
   "language": "python",
   "name": "python3"
  },
  "language_info": {
   "codemirror_mode": {
    "name": "ipython",
    "version": 3
   },
   "file_extension": ".py",
   "mimetype": "text/x-python",
   "name": "python",
   "nbconvert_exporter": "python",
   "pygments_lexer": "ipython3",
   "version": "3.6.6"
  }
 },
 "nbformat": 4,
 "nbformat_minor": 2
}
